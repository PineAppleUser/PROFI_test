{
  "nbformat": 4,
  "nbformat_minor": 0,
  "metadata": {
    "colab": {
      "name": "Untitled4.ipynb",
      "provenance": []
    },
    "kernelspec": {
      "name": "python3",
      "display_name": "Python 3"
    }
  },
  "cells": [
    {
      "cell_type": "markdown",
      "metadata": {
        "id": "PLOLzlqsCAkg"
      },
      "source": [
        "#Задание 1"
      ]
    },
    {
      "cell_type": "code",
      "metadata": {
        "id": "Xt5CoHhvA2Fc"
      },
      "source": [
        "def func(seq): \n",
        "   checked = []\n",
        "   for i in seq:\n",
        "       if i not in checked:\n",
        "           checked.append(i)\n",
        "   return checked"
      ],
      "execution_count": null,
      "outputs": []
    },
    {
      "cell_type": "markdown",
      "metadata": {
        "id": "nq3RjmgM_ety"
      },
      "source": [
        "Сложность алгоритма O(n<sup>2</sup>)"
      ]
    },
    {
      "cell_type": "code",
      "metadata": {
        "id": "yEDgqxbZA3Hj",
        "outputId": "5a89fe5f-56b8-4182-f5ff-3e798d31ea83",
        "colab": {
          "base_uri": "https://localhost:8080/"
        }
      },
      "source": [
        "sequence_1 = [1,2,3,1]\n",
        "\n",
        "new_list = func(sequence_1)\n",
        "\n",
        "new_list"
      ],
      "execution_count": null,
      "outputs": [
        {
          "output_type": "execute_result",
          "data": {
            "text/plain": [
              "[1, 2, 3]"
            ]
          },
          "metadata": {
            "tags": []
          },
          "execution_count": 8
        }
      ]
    },
    {
      "cell_type": "code",
      "metadata": {
        "id": "XngrgLlvBDmh",
        "outputId": "00ae15c6-52d2-472e-9ef1-6741760563da",
        "colab": {
          "base_uri": "https://localhost:8080/"
        }
      },
      "source": [
        "sequence_2 = [1, 3, 2, 1, 5, 3, 5, 1, 4]\n",
        "\n",
        "new_list_2 = func(sequence_2)\n",
        "\n",
        "new_list_2"
      ],
      "execution_count": null,
      "outputs": [
        {
          "output_type": "execute_result",
          "data": {
            "text/plain": [
              "[1, 3, 2, 5, 4]"
            ]
          },
          "metadata": {
            "tags": []
          },
          "execution_count": 9
        }
      ]
    },
    {
      "cell_type": "markdown",
      "metadata": {
        "id": "z1D8W-eOBuwq"
      },
      "source": [
        "#Задание 2\n",
        "SELECT department FROM work_space\n",
        "<br>\n",
        "WHERE position = 'Software Developer'\n",
        "<br>\n",
        "GROUP BY department\n",
        "<br>\n",
        "HAVING COUNT(position) < 5"
      ]
    },
    {
      "cell_type": "markdown",
      "metadata": {
        "id": "7jpz1caRGfDh"
      },
      "source": [
        "#Задание 3\n",
        "Подкинули монету N раз. Кол-во случаев, когда выпал орёл, на 10% больше, чем кол-во случаев, когда выпала решка. При каком N мы можем сказать, что монета «нечестная» (орёл и решка выпадают с разной вероятностью)?\n",
        "<br>\n"
      ]
    },
    {
      "cell_type": "markdown",
      "metadata": {
        "id": "-q46kpoQ2H8j"
      },
      "source": [
        "Результат выпадения не может говорить однозначно о том ,что монета \"нечестная\". Сколько бы раз не кидали , всегда есть вероятность , что подряд могут выпадать только орел и это также не будет говорить о том , что они выпадают с разной вероятностью. Да - вероятность выпасть орлу 10 раз подряд очень мала ,но не невозможна."
      ]
    },
    {
      "cell_type": "code",
      "metadata": {
        "id": "HpKZsxoIBK9x"
      },
      "source": [
        ""
      ],
      "execution_count": null,
      "outputs": []
    }
  ]
}